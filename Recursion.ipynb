{
 "cells": [
  {
   "cell_type": "code",
   "execution_count": 2,
   "id": "e683f5e6",
   "metadata": {},
   "outputs": [
    {
     "name": "stdout",
     "output_type": "stream",
     "text": [
      "7\n",
      "7\n",
      "6\n",
      "5\n",
      "4\n",
      "3\n",
      "2\n",
      "1\n",
      "0\n"
     ]
    }
   ],
   "source": [
    "n=int(input())\n",
    "def num(a):\n",
    "    if(a>=0):\n",
    "        print(a)\n",
    "        num(a-1)\n",
    "num(n)"
   ]
  },
  {
   "cell_type": "code",
   "execution_count": 3,
   "id": "a1143d24",
   "metadata": {},
   "outputs": [
    {
     "name": "stdout",
     "output_type": "stream",
     "text": [
      "5\n",
      "10\n",
      "5\n",
      "6\n",
      "7\n",
      "8\n",
      "9\n"
     ]
    }
   ],
   "source": [
    "n=int(input())\n",
    "m=int(input())\n",
    "def series(n):\n",
    "    if(n<m):\n",
    "        print(n)\n",
    "        series(n+1)\n",
    "series(n)"
   ]
  },
  {
   "cell_type": "code",
   "execution_count": 4,
   "id": "cc1d031a",
   "metadata": {},
   "outputs": [
    {
     "name": "stdout",
     "output_type": "stream",
     "text": [
      "10\n",
      "0\n",
      "1\n",
      "2\n",
      "3\n",
      "4\n",
      "5\n",
      "6\n",
      "7\n",
      "8\n",
      "9\n",
      "10\n"
     ]
    }
   ],
   "source": [
    "n=int(input())\n",
    "i=0\n",
    "def series(i,a):\n",
    "    if(i<=a):\n",
    "        print(i)\n",
    "        series(i+1,a)\n",
    "series(i,n)"
   ]
  },
  {
   "cell_type": "markdown",
   "id": "68a7e11e",
   "metadata": {},
   "source": [
    "**Sum of n num series**<br>\n",
    "4->(4+3+2+1)->10"
   ]
  },
  {
   "cell_type": "code",
   "execution_count": 5,
   "id": "d8a99424",
   "metadata": {
    "scrolled": true
   },
   "outputs": [
    {
     "name": "stdout",
     "output_type": "stream",
     "text": [
      "4\n",
      "10\n"
     ]
    }
   ],
   "source": [
    "a=int(input())\n",
    "i=1\n",
    "s=0\n",
    "def sum1(i,s,n):\n",
    "    if(i<=n):\n",
    "        s=s+i\n",
    "        sum1(i+1,s,n)\n",
    "    else:\n",
    "        print(s)\n",
    "sum1(i,s,a)"
   ]
  },
  {
   "cell_type": "markdown",
   "id": "e0e88560",
   "metadata": {},
   "source": [
    "**Factorial**"
   ]
  },
  {
   "cell_type": "code",
   "execution_count": 6,
   "id": "48fd7577",
   "metadata": {},
   "outputs": [
    {
     "name": "stdout",
     "output_type": "stream",
     "text": [
      "7\n",
      "5040\n"
     ]
    }
   ],
   "source": [
    "n=int(input())\n",
    "fact=1\n",
    "i=1\n",
    "def factorial(i,fact,a):\n",
    "    if(i<=a):\n",
    "        fact=fact*i\n",
    "        factorial(i+1,fact,a)\n",
    "    else:\n",
    "        print(fact)\n",
    "factorial(i,fact,n)"
   ]
  },
  {
   "cell_type": "markdown",
   "id": "f3c20d4d",
   "metadata": {},
   "source": [
    "**Even nums in given range**"
   ]
  },
  {
   "cell_type": "code",
   "execution_count": 7,
   "id": "83ec9e80",
   "metadata": {},
   "outputs": [
    {
     "name": "stdout",
     "output_type": "stream",
     "text": [
      "1\n",
      "10\n",
      "2\n",
      "4\n",
      "6\n",
      "8\n",
      "10\n"
     ]
    }
   ],
   "source": [
    "a=int(input())\n",
    "b=int(input())\n",
    "def even(a,b):\n",
    "    if(a<=b):\n",
    "        if(a%2==0):\n",
    "            print(a)\n",
    "            even(a+1,b)\n",
    "        else:\n",
    "            even(a+1,b)\n",
    "even(a,b)"
   ]
  },
  {
   "cell_type": "markdown",
   "id": "3e422118",
   "metadata": {},
   "source": [
    "**Odd nums in given range**"
   ]
  },
  {
   "cell_type": "code",
   "execution_count": 8,
   "id": "52078415",
   "metadata": {},
   "outputs": [
    {
     "name": "stdout",
     "output_type": "stream",
     "text": [
      "1\n",
      "10\n",
      "1\n",
      "3\n",
      "5\n",
      "7\n",
      "9\n"
     ]
    }
   ],
   "source": [
    "c=int(input())\n",
    "d=int(input())\n",
    "def odd(a,b):\n",
    "    if(a<=b):\n",
    "        if(a%2!=0):\n",
    "            print(a)\n",
    "            odd(a+1,b)\n",
    "        else:\n",
    "            odd(a+1,b)\n",
    "odd(c,d)"
   ]
  }
 ],
 "metadata": {
  "kernelspec": {
   "display_name": "Python 3 (ipykernel)",
   "language": "python",
   "name": "python3"
  },
  "language_info": {
   "codemirror_mode": {
    "name": "ipython",
    "version": 3
   },
   "file_extension": ".py",
   "mimetype": "text/x-python",
   "name": "python",
   "nbconvert_exporter": "python",
   "pygments_lexer": "ipython3",
   "version": "3.9.12"
  }
 },
 "nbformat": 4,
 "nbformat_minor": 5
}
