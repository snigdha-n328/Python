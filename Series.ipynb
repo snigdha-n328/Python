{
 "cells": [
  {
   "cell_type": "markdown",
   "id": "4a419a9f",
   "metadata": {},
   "source": [
    "**Series: 0 1 4 27 16 125...**"
   ]
  },
  {
   "cell_type": "code",
   "execution_count": 3,
   "id": "2407016a",
   "metadata": {},
   "outputs": [
    {
     "name": "stdout",
     "output_type": "stream",
     "text": [
      "9\n",
      "0 1 4 27 16 125 36 343 64 729 "
     ]
    }
   ],
   "source": [
    "n=int(input())\n",
    "for i in range(n+1):\n",
    "    if(i%2==0):\n",
    "        print(i*i,end=' ')\n",
    "    else:\n",
    "        print(i*i*i,end=' ')"
   ]
  },
  {
   "cell_type": "markdown",
   "id": "a614d105",
   "metadata": {},
   "source": [
    "**Series: 0 2 8 14 24 34 58 62 80 98**"
   ]
  },
  {
   "cell_type": "code",
   "execution_count": 4,
   "id": "801debe3",
   "metadata": {},
   "outputs": [
    {
     "name": "stdout",
     "output_type": "stream",
     "text": [
      "10\n",
      "0 2 8 14 24 34 58 62 80 98 "
     ]
    }
   ],
   "source": [
    "a=int(input())\n",
    "for i in range(1,a+1):\n",
    "    if(i<7 or i>7):\n",
    "        if(i%2==0):\n",
    "            print(i*i-2,end=' ')\n",
    "        else:\n",
    "            print(i*i-1,end=' ')\n",
    "    else:\n",
    "        print((i*i-1)+10,end=' ')"
   ]
  },
  {
   "cell_type": "markdown",
   "id": "0f8f8d04",
   "metadata": {},
   "source": [
    "**Series: 4->20 3->6 7->42 10->110**"
   ]
  },
  {
   "cell_type": "code",
   "execution_count": 11,
   "id": "c3008365",
   "metadata": {},
   "outputs": [
    {
     "name": "stdout",
     "output_type": "stream",
     "text": [
      "4\n",
      "4\n",
      "20\n",
      "3\n",
      "6\n",
      "7\n",
      "42\n",
      "10\n",
      "110\n"
     ]
    }
   ],
   "source": [
    "n=int(input())\n",
    "for i in range(n):\n",
    "    i=int(input())\n",
    "    if(i%2==0):\n",
    "        print(i*(i+1))\n",
    "    else:\n",
    "        print(i*(i-1))"
   ]
  },
  {
   "cell_type": "markdown",
   "id": "41a11311",
   "metadata": {},
   "source": [
    "**Series:1 4 8 11 15 sum:15**"
   ]
  },
  {
   "cell_type": "code",
   "execution_count": 12,
   "id": "5b1359b0",
   "metadata": {},
   "outputs": [
    {
     "name": "stdout",
     "output_type": "stream",
     "text": [
      "5\n",
      "1 4 8 11 15 \n",
      "Sum of series: 15\n"
     ]
    }
   ],
   "source": [
    "n=int(input())\n",
    "s1=1\n",
    "for i in range(1,n+1):\n",
    "    if(i%2!=0):\n",
    "        print(s1,end=' ')\n",
    "        if(i!=n):\n",
    "            s1=s1+3\n",
    "    else:\n",
    "        print(s1,end=' ')\n",
    "        if(i!=n):\n",
    "            s1=s1+4\n",
    "print()\n",
    "print(\"Sum of series:\",s1)"
   ]
  }
 ],
 "metadata": {
  "kernelspec": {
   "display_name": "Python 3 (ipykernel)",
   "language": "python",
   "name": "python3"
  },
  "language_info": {
   "codemirror_mode": {
    "name": "ipython",
    "version": 3
   },
   "file_extension": ".py",
   "mimetype": "text/x-python",
   "name": "python",
   "nbconvert_exporter": "python",
   "pygments_lexer": "ipython3",
   "version": "3.9.12"
  }
 },
 "nbformat": 4,
 "nbformat_minor": 5
}
