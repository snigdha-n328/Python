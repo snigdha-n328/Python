{
 "cells": [
  {
   "cell_type": "code",
   "execution_count": 1,
   "id": "9da279b9",
   "metadata": {},
   "outputs": [
    {
     "name": "stdout",
     "output_type": "stream",
     "text": [
      "9\n",
      "10\n",
      "4\n",
      "2\n",
      "8\n",
      "4\n",
      "2\n",
      "9\n",
      "3\n",
      "1\n",
      "[10, 4, 2, 8, 4, 2, 9, 3, 1]\n",
      "[1, 2, 2, 3, 4, 4, 8, 9, 10]\n"
     ]
    }
   ],
   "source": [
    "a=[]\n",
    "n=int(input())\n",
    "for i in range(n):\n",
    "    a.append(int(input()))\n",
    "print(a)\n",
    "b=[]\n",
    "for i in range(n):\n",
    "    b.append(min(a))\n",
    "    a.remove(min(a))\n",
    "print(b)"
   ]
  }
 ],
 "metadata": {
  "kernelspec": {
   "display_name": "Python 3 (ipykernel)",
   "language": "python",
   "name": "python3"
  },
  "language_info": {
   "codemirror_mode": {
    "name": "ipython",
    "version": 3
   },
   "file_extension": ".py",
   "mimetype": "text/x-python",
   "name": "python",
   "nbconvert_exporter": "python",
   "pygments_lexer": "ipython3",
   "version": "3.9.12"
  }
 },
 "nbformat": 4,
 "nbformat_minor": 5
}
