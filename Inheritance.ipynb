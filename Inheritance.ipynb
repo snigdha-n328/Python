{
 "cells": [
  {
   "cell_type": "code",
   "execution_count": 1,
   "id": "e683f5e6",
   "metadata": {},
   "outputs": [
    {
     "name": "stdout",
     "output_type": "stream",
     "text": [
      "Enter value:3\n",
      "Square: 9\n",
      "Class A executed\n",
      "Enter value:4\n",
      "Square: 16\n",
      "Class A executed\n",
      "Enter value:19\n",
      "Cube: 6859\n",
      "Class B executed\n",
      "Class c executed\n",
      "Inherited a and b\n",
      "Enter value:2\n",
      "Quotient: 0\n"
     ]
    }
   ],
   "source": [
    "class a:\n",
    "    def sqr(self):\n",
    "        a=int(input(\"Enter value:\"))\n",
    "        print('Square:',a*a)\n",
    "        print('Class A executed')\n",
    "class b:\n",
    "    def cube(self):\n",
    "        a=int(input(\"Enter value:\"))\n",
    "        print('Cube:',a*a*a)\n",
    "        print('Class B executed')\n",
    "class c(a,b):\n",
    "    def put(self):\n",
    "        print('Class c executed')\n",
    "        print('Inherited a and b')\n",
    "class d(c):\n",
    "    def div(self):\n",
    "        a=int(input(\"Enter value:\"))\n",
    "        print(\"Quotient:\",a//10) \n",
    "ob1=a()\n",
    "ob1.sqr()\n",
    "ob2=d()\n",
    "ob2.sqr()\n",
    "ob2.cube()\n",
    "ob2.put()\n",
    "ob2.div()"
   ]
  }
 ],
 "metadata": {
  "kernelspec": {
   "display_name": "Python 3 (ipykernel)",
   "language": "python",
   "name": "python3"
  },
  "language_info": {
   "codemirror_mode": {
    "name": "ipython",
    "version": 3
   },
   "file_extension": ".py",
   "mimetype": "text/x-python",
   "name": "python",
   "nbconvert_exporter": "python",
   "pygments_lexer": "ipython3",
   "version": "3.9.12"
  }
 },
 "nbformat": 4,
 "nbformat_minor": 5
}
